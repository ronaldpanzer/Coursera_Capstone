{
 "cells": [
  {
   "cell_type": "markdown",
   "metadata": {
    "collapsed": true
   },
   "source": [
    "## Capstone Project\n",
    "## Where to open a Greek restaurant in New York?\n",
    "**by Ronald Vieira**\n",
    "***\n",
    "### Introduction\n",
    "Greek cuisine is the cuisine of Greece and the Greek diaspora. In common with many other cuisines of the Mediterranean, it is founded on the triad of wheat, olive oil, and wine.  It uses vegetables, olive oil, grains, fish, and meat, including pork, poultry, veal and beef, lamb, rabbit, and goat. \n",
    "\tNew York City is commonly known as one of the most popular multicultural centers of the Earth.  Moreover, its economic growth and perspectives attract businesses, families and individuals from all over the world; therefore, the city’s diversity is not only being supported but also achieving new heights.  With almost 200,000 NYC inhabitants reporting Greek ancestry, the need to find and enjoy Greek cuisine is on the rise.\n",
    "\tLocation is the key factor when opening a venue.  The pandemic caused by Covid-19 caused the population to move less and to use places near their homes such bakeries, supermarkets, drugstores and restaurants.  Despite the lockdown and virus consequences, it is possible to find opportunities in the middle of the pandemic and one of them is to open the right business in the right neighborhood.\n",
    "\tPrior to opening a Greek restaurant in any community, it's a good idea to determine how many competitors exist.  It is also important to gain knowledge of how existing firms have positioned themselves in the marketplace, and then design the business in a way that sets the entrepreneur apart from the others.  This report explores which neighborhoods and boroughs of New York City have the most as well as the best Greek restaurants to answer the main question: **Where should I open a Greek restaurant in New York City?**\n",
    "\n",
    "\n",
    "### Data Section\n",
    "In order to determine the possible options for opening a new restaurant, the data on New York City neighborhoods and boroughs **to include boundaries, latitudes, longitudes, restaurants, restaurant ratings and tips** are required:\n",
    "* New York City data containing the neighborhoods and boroughs, latitudes, and longitudes will be obtained from the data source: https://cocl.us/new_york_dataset;\n",
    "* All data related to locations and quality of Greek restaurants will be obtained via the FourSquare API utilized via the Request library in Python.\n",
    "\n",
    "### Methodology Section\n",
    "* Data will be collected from https://cocl.us/new_york_dataset, cleaned and processed into a dataframe;\n",
    "* FourSquare API will be used to locate all venues;\n",
    "* Greek restaurants will be extracted from these venues;\n",
    "* Ratings, tips, and likes by users will be counted and added to the dataframe;\n",
    "* Data will be sorted based on rankings;\n",
    "* Finally, the data will be visually assessed using graphing tools from various Python libraries.\n",
    "\n",
    "### Problem Statement (Summary)\n",
    "* What are the best locations for Greek cuisine in New York City?\n",
    "* In which neighborhood and/or borough should I open an Greek restaurant to have the best chance of being successful?\n",
    "\n",
    "### Analysis Section\n",
    "#### Loading all important libraries"
   ]
  },
  {
   "cell_type": "code",
   "execution_count": 1,
   "metadata": {
    "scrolled": true
   },
   "outputs": [
    {
     "name": "stdout",
     "output_type": "stream",
     "text": [
      "Requirement already satisfied: folium in c:\\portapps\\winpython\\python-3.8.3.amd64\\lib\\site-packages (0.11.0)\n",
      "Requirement already satisfied: branca>=0.3.0 in c:\\portapps\\winpython\\python-3.8.3.amd64\\lib\\site-packages (from folium) (0.3.1)\n",
      "Requirement already satisfied: jinja2>=2.9 in c:\\portapps\\winpython\\python-3.8.3.amd64\\lib\\site-packages (from folium) (2.11.2)\n",
      "Requirement already satisfied: numpy in c:\\portapps\\winpython\\python-3.8.3.amd64\\lib\\site-packages (from folium) (1.18.4+mkl)\n",
      "Requirement already satisfied: requests in c:\\portapps\\winpython\\python-3.8.3.amd64\\lib\\site-packages (from folium) (2.23.0)\n",
      "Requirement already satisfied: six in c:\\portapps\\winpython\\python-3.8.3.amd64\\lib\\site-packages (from branca>=0.3.0->folium) (1.14.0)\n",
      "Requirement already satisfied: MarkupSafe>=0.23 in c:\\portapps\\winpython\\python-3.8.3.amd64\\lib\\site-packages (from jinja2>=2.9->folium) (1.1.1)\n",
      "Requirement already satisfied: chardet<4,>=3.0.2 in c:\\portapps\\winpython\\python-3.8.3.amd64\\lib\\site-packages (from requests->folium) (3.0.4)\n",
      "Requirement already satisfied: urllib3!=1.25.0,!=1.25.1,<1.26,>=1.21.1 in c:\\portapps\\winpython\\python-3.8.3.amd64\\lib\\site-packages (from requests->folium) (1.25.9)\n",
      "Requirement already satisfied: idna<3,>=2.5 in c:\\portapps\\winpython\\python-3.8.3.amd64\\lib\\site-packages (from requests->folium) (2.9)\n",
      "Requirement already satisfied: certifi>=2017.4.17 in c:\\portapps\\winpython\\python-3.8.3.amd64\\lib\\site-packages (from requests->folium) (2020.4.5.1)\n"
     ]
    },
    {
     "name": "stderr",
     "output_type": "stream",
     "text": [
      "WARNING: You are using pip version 20.1.1; however, version 20.2.2 is available.\n",
      "You should consider upgrading via the 'C:\\PortApps\\WinPython\\python-3.8.3.amd64\\python.exe -m pip install --upgrade pip' command.\n"
     ]
    },
    {
     "name": "stdout",
     "output_type": "stream",
     "text": [
      "Requirement already satisfied: geopy in c:\\portapps\\winpython\\python-3.8.3.amd64\\lib\\site-packages (1.22.0)\n",
      "Requirement already satisfied: geographiclib<2,>=1.49 in c:\\portapps\\winpython\\python-3.8.3.amd64\\lib\\site-packages (from geopy) (1.50)\n"
     ]
    },
    {
     "name": "stderr",
     "output_type": "stream",
     "text": [
      "WARNING: You are using pip version 20.1.1; however, version 20.2.2 is available.\n",
      "You should consider upgrading via the 'C:\\PortApps\\WinPython\\python-3.8.3.amd64\\python.exe -m pip install --upgrade pip' command.\n"
     ]
    },
    {
     "name": "stdout",
     "output_type": "stream",
     "text": [
      "Done!\n"
     ]
    }
   ],
   "source": [
    "import pandas as pd    # data analysis library\n",
    "import numpy as np     # fundamental package for scientific computing \n",
    "import requests        # HTTP library\n",
    "import os              # operating system interfaces\n",
    "\n",
    "!pip install folium\n",
    "import folium          # package to visualize data on a leaflet map \n",
    "\n",
    "!pip install geopy\n",
    "from geopy.geocoders import Nominatim   # geocoding software\n",
    "\n",
    "import matplotlib.pyplot as plt         # plotting library\n",
    "import matplotlib.cm as cm\n",
    "import matplotlib.colors as colors\n",
    "%matplotlib inline\n",
    "\n",
    "import seaborn as sns  # statistical data visualization library\n",
    "\n",
    "print('Done!')"
   ]
  },
  {
   "cell_type": "markdown",
   "metadata": {},
   "source": [
    "#### Defining key variables"
   ]
  },
  {
   "cell_type": "code",
   "execution_count": 14,
   "metadata": {},
   "outputs": [],
   "source": [
    "# @hidden_cell\n",
    "CLIENT_ID = 'CLIENT_ID' # your FourSquare ID\n",
    "CLIENT_SECRET = 'CLIENT_SECRET' # your FourSquare Secret\n",
    "VERSION = '20181020' # FourSquare API version"
   ]
  },
  {
   "cell_type": "markdown",
   "metadata": {},
   "source": [
    "#### Defining functions to be used"
   ]
  },
  {
   "cell_type": "code",
   "execution_count": 3,
   "metadata": {},
   "outputs": [],
   "source": [
    "def geo_location(address):\n",
    "    # get geo location of address\n",
    "    geolocator = Nominatim(user_agent = \"foursquare_agent\")\n",
    "    location = geolocator.geocode(address)\n",
    "    latitude = location.latitude\n",
    "    longitude = location.longitude\n",
    "    return latitude, longitude\n",
    "\n",
    "\n",
    "def get_venues(lat, lng):\n",
    "    # set variables\n",
    "    radius = 400\n",
    "    LIMIT = 100\n",
    "    # URL to fetch data from FourSquare API\n",
    "    url = 'https://api.foursquare.com/v2/venues/explore?&client_id={}&client_secret={}&v={}&ll={},{}&radius={}&limit={}'.format(\n",
    "            CLIENT_ID, \n",
    "            CLIENT_SECRET, \n",
    "            VERSION, \n",
    "            lat, \n",
    "            lng, \n",
    "            radius, \n",
    "            LIMIT)\n",
    "    # get all the data\n",
    "    results = requests.get(url).json()\n",
    "    venue_data = results[\"response\"][\"groups\"][0]['items']\n",
    "    venue_details = []\n",
    "    for row in venue_data:\n",
    "        try:\n",
    "            venue_id = row['venue']['id']\n",
    "            venue_name = row['venue']['name']\n",
    "            venue_category = row['venue']['categories'][0]['name']\n",
    "            venue_details.append([venue_id, venue_name, venue_category])\n",
    "        except KeyError:\n",
    "            pass\n",
    "    column_names = ['ID','Name','Category']\n",
    "    df = pd.DataFrame(venue_details, columns = column_names)\n",
    "    return df\n",
    "\n",
    "\n",
    "def get_venue_details(venue_id):\n",
    "    # URL to fetch data from FourSquare API\n",
    "    url = 'https://api.foursquare.com/v2/venues/{}?&client_id={}&client_secret={}&v={}'.format(\n",
    "            venue_id,\n",
    "            CLIENT_ID, \n",
    "            CLIENT_SECRET, \n",
    "            VERSION)\n",
    "    # get all the data\n",
    "    results = requests.get(url).json()\n",
    "    venue_data = results['response']['venue']\n",
    "    venue_details = []\n",
    "    try:\n",
    "        venue_id = venue_data['id']\n",
    "        venue_name = venue_data['name']\n",
    "        venue_likes = venue_data['likes']['count']\n",
    "        venue_rating = venue_data['rating']\n",
    "        venue_tips = venue_data['tips']['count']\n",
    "        venue_details.append([venue_id, venue_name, venue_likes, venue_rating, venue_tips])\n",
    "    except KeyError:\n",
    "        pass\n",
    "    column_names = ['ID','Name','Likes','Rating','Tips']\n",
    "    df = pd.DataFrame(venue_details, columns = column_names)\n",
    "    return df\n",
    "\n",
    "\n",
    "def get_new_york_data():\n",
    "    url = 'https://cocl.us/new_york_dataset'\n",
    "    response = requests.get(url).json()\n",
    "    # all data is present in features label\n",
    "    features = response['features']\n",
    "    # define the dataframe columns\n",
    "    column_names = ['Borough', 'Neighborhood', 'Latitude', 'Longitude'] \n",
    "    # instantiate the dataframe\n",
    "    new_york_data = pd.DataFrame(columns = column_names)\n",
    "    for data in features:\n",
    "        borough = data['properties']['borough'] \n",
    "        neighborhood_name = data['properties']['name']\n",
    "        neighborhood_latlon = data['geometry']['coordinates']\n",
    "        neighborhood_lat = neighborhood_latlon[1]\n",
    "        neighborhood_lon = neighborhood_latlon[0]\n",
    "        new_york_data = new_york_data.append({'Borough': borough,\n",
    "                                          'Neighborhood': neighborhood_name,\n",
    "                                          'Latitude': neighborhood_lat,\n",
    "                                          'Longitude': neighborhood_lon}, ignore_index = True)\n",
    "    return new_york_data"
   ]
  },
  {
   "cell_type": "markdown",
   "metadata": {},
   "source": [
    "#### Getting data of New York City"
   ]
  },
  {
   "cell_type": "code",
   "execution_count": 4,
   "metadata": {},
   "outputs": [
    {
     "name": "stdout",
     "output_type": "stream",
     "text": [
      "There are 306 rows and 4 columns\n"
     ]
    },
    {
     "data": {
      "text/html": [
       "<div>\n",
       "<style scoped>\n",
       "    .dataframe tbody tr th:only-of-type {\n",
       "        vertical-align: middle;\n",
       "    }\n",
       "\n",
       "    .dataframe tbody tr th {\n",
       "        vertical-align: top;\n",
       "    }\n",
       "\n",
       "    .dataframe thead th {\n",
       "        text-align: right;\n",
       "    }\n",
       "</style>\n",
       "<table border=\"1\" class=\"dataframe\">\n",
       "  <thead>\n",
       "    <tr style=\"text-align: right;\">\n",
       "      <th></th>\n",
       "      <th>Borough</th>\n",
       "      <th>Neighborhood</th>\n",
       "      <th>Latitude</th>\n",
       "      <th>Longitude</th>\n",
       "    </tr>\n",
       "  </thead>\n",
       "  <tbody>\n",
       "    <tr>\n",
       "      <th>0</th>\n",
       "      <td>Bronx</td>\n",
       "      <td>Wakefield</td>\n",
       "      <td>40.894705</td>\n",
       "      <td>-73.847201</td>\n",
       "    </tr>\n",
       "    <tr>\n",
       "      <th>1</th>\n",
       "      <td>Bronx</td>\n",
       "      <td>Co-op City</td>\n",
       "      <td>40.874294</td>\n",
       "      <td>-73.829939</td>\n",
       "    </tr>\n",
       "    <tr>\n",
       "      <th>2</th>\n",
       "      <td>Bronx</td>\n",
       "      <td>Eastchester</td>\n",
       "      <td>40.887556</td>\n",
       "      <td>-73.827806</td>\n",
       "    </tr>\n",
       "    <tr>\n",
       "      <th>3</th>\n",
       "      <td>Bronx</td>\n",
       "      <td>Fieldston</td>\n",
       "      <td>40.895437</td>\n",
       "      <td>-73.905643</td>\n",
       "    </tr>\n",
       "    <tr>\n",
       "      <th>4</th>\n",
       "      <td>Bronx</td>\n",
       "      <td>Riverdale</td>\n",
       "      <td>40.890834</td>\n",
       "      <td>-73.912585</td>\n",
       "    </tr>\n",
       "  </tbody>\n",
       "</table>\n",
       "</div>"
      ],
      "text/plain": [
       "  Borough Neighborhood   Latitude  Longitude\n",
       "0   Bronx    Wakefield  40.894705 -73.847201\n",
       "1   Bronx   Co-op City  40.874294 -73.829939\n",
       "2   Bronx  Eastchester  40.887556 -73.827806\n",
       "3   Bronx    Fieldston  40.895437 -73.905643\n",
       "4   Bronx    Riverdale  40.890834 -73.912585"
      ]
     },
     "execution_count": 4,
     "metadata": {},
     "output_type": "execute_result"
    }
   ],
   "source": [
    "nyc_data = get_new_york_data()\n",
    "print('There are', nyc_data.shape[0], 'rows and', nyc_data.shape[1], 'columns')\n",
    "nyc_data.head()"
   ]
  },
  {
   "cell_type": "markdown",
   "metadata": {},
   "source": [
    "#### Visualizing bar chart «Neighborhoods per Borough: NYC»"
   ]
  },
  {
   "cell_type": "code",
   "execution_count": 5,
   "metadata": {},
   "outputs": [
    {
     "data": {
      "image/png": "[encoded data removed]",
      "text/plain": [
       "<Figure size 864x576 with 1 Axes>"
      ]
     },
     "metadata": {
      "needs_background": "light"
     },
     "output_type": "display_data"
    }
   ],
   "source": [
    "color = \"black\"\n",
    "nyc_data.groupby('Borough')['Neighborhood'].count().plot.bar(figsize = (12,8), color = color)\n",
    "plt.title('Neighborhoods per Borough: NYC', fontsize = 20)\n",
    "plt.xlabel('Borough', fontsize = 15)\n",
    "plt.ylabel('Neighborhoods',fontsize = 15)\n",
    "plt.xticks(rotation = 'horizontal')\n",
    "plt.show()"
   ]
  },
  {
   "cell_type": "markdown",
   "metadata": {},
   "source": [
    "* We can see that **the highest** number of neigborhoods is in **Queens** and **the lowest** is in **Manhattan**.\n",
    "\n",
    "#### Preparing neighborhood list that contains Greek restaurants"
   ]
  },
  {
   "cell_type": "code",
   "execution_count": 15,
   "metadata": {},
   "outputs": [
    {
     "name": "stdout",
     "output_type": "stream",
     "text": [
      "There are 32 rows and 4 columns\n"
     ]
    },
    {
     "data": {
      "text/html": [
       "<div>\n",
       "<style scoped>\n",
       "    .dataframe tbody tr th:only-of-type {\n",
       "        vertical-align: middle;\n",
       "    }\n",
       "\n",
       "    .dataframe tbody tr th {\n",
       "        vertical-align: top;\n",
       "    }\n",
       "\n",
       "    .dataframe thead th {\n",
       "        text-align: right;\n",
       "    }\n",
       "</style>\n",
       "<table border=\"1\" class=\"dataframe\">\n",
       "  <thead>\n",
       "    <tr style=\"text-align: right;\">\n",
       "      <th></th>\n",
       "      <th>Borough</th>\n",
       "      <th>Neighborhood</th>\n",
       "      <th>ID</th>\n",
       "      <th>Name</th>\n",
       "    </tr>\n",
       "  </thead>\n",
       "  <tbody>\n",
       "    <tr>\n",
       "      <th>0</th>\n",
       "      <td>Bronx</td>\n",
       "      <td>Fordham</td>\n",
       "      <td>4c8801830f3c236a2d4bef5c</td>\n",
       "      <td>Gyro King</td>\n",
       "    </tr>\n",
       "    <tr>\n",
       "      <th>1</th>\n",
       "      <td>Brooklyn</td>\n",
       "      <td>Bay Ridge</td>\n",
       "      <td>58fa85be98fbfc397bafe21f</td>\n",
       "      <td>Blue Door Souvlakia</td>\n",
       "    </tr>\n",
       "    <tr>\n",
       "      <th>2</th>\n",
       "      <td>Brooklyn</td>\n",
       "      <td>Bay Ridge</td>\n",
       "      <td>4bbce66da0a0c9b6b9f41a0f</td>\n",
       "      <td>Elia Restaurant</td>\n",
       "    </tr>\n",
       "    <tr>\n",
       "      <th>3</th>\n",
       "      <td>Brooklyn</td>\n",
       "      <td>Windsor Terrace</td>\n",
       "      <td>545cf830498ee931999c6d38</td>\n",
       "      <td>Greek Xpress</td>\n",
       "    </tr>\n",
       "    <tr>\n",
       "      <th>4</th>\n",
       "      <td>Brooklyn</td>\n",
       "      <td>Prospect Heights</td>\n",
       "      <td>5ad35db3dd70c54b66147664</td>\n",
       "      <td>Underhill Greek Eatery</td>\n",
       "    </tr>\n",
       "  </tbody>\n",
       "</table>\n",
       "</div>"
      ],
      "text/plain": [
       "    Borough      Neighborhood                        ID  \\\n",
       "0     Bronx           Fordham  4c8801830f3c236a2d4bef5c   \n",
       "1  Brooklyn         Bay Ridge  58fa85be98fbfc397bafe21f   \n",
       "2  Brooklyn         Bay Ridge  4bbce66da0a0c9b6b9f41a0f   \n",
       "3  Brooklyn   Windsor Terrace  545cf830498ee931999c6d38   \n",
       "4  Brooklyn  Prospect Heights  5ad35db3dd70c54b66147664   \n",
       "\n",
       "                     Name  \n",
       "0               Gyro King  \n",
       "1     Blue Door Souvlakia  \n",
       "2         Elia Restaurant  \n",
       "3            Greek Xpress  \n",
       "4  Underhill Greek Eatery  "
      ]
     },
     "execution_count": 15,
     "metadata": {},
     "output_type": "execute_result"
    }
   ],
   "source": [
    "column_names = ['Borough', 'Neighborhood', 'ID', 'Name']\n",
    "gr_rest = pd.DataFrame(columns = column_names)\n",
    "count = 1\n",
    "for row in nyc_data.values.tolist():\n",
    "    Borough, Neighborhood, Latitude, Longitude = row\n",
    "    venues = get_venues(Latitude, Longitude)\n",
    "    greek_restaurants = venues[venues['Category'] == 'Greek Restaurant']\n",
    "    for restaurant_detail in greek_restaurants.values.tolist():\n",
    "        id, name, category = restaurant_detail\n",
    "        gr_rest = gr_rest.append({'Borough': Borough,\n",
    "                               'Neighborhood': Neighborhood, \n",
    "                               'ID': id,\n",
    "                               'Name' : name}, ignore_index = True)\n",
    "    count += 1\n",
    "\n",
    "\n",
    "gr_rest.to_csv('gr_rest.csv') # save the information so far to a .csv file due to limited calls on FourSquare\n",
    "gr_rest = pd.read_csv('gr_rest.csv', index_col = 0)\n",
    "print('There are', gr_rest.shape[0], 'rows and', gr_rest.shape[1], 'columns')\n",
    "gr_rest.head()"
   ]
  },
  {
   "cell_type": "markdown",
   "metadata": {},
   "source": [
    "#### Visualizing bar chart «Greek Restaurants per Borough: NYC»"
   ]
  },
  {
   "cell_type": "code",
   "execution_count": 18,
   "metadata": {},
   "outputs": [
    {
     "data": {
      "image/png": "[encoded data removed]",
      "text/plain": [
       "<Figure size 864x576 with 1 Axes>"
      ]
     },
     "metadata": {
      "needs_background": "light"
     },
     "output_type": "display_data"
    }
   ],
   "source": [
    "color = \"red\"\n",
    "gr_rest.groupby('Borough')['ID'].count().plot.bar(figsize = (12,8), color = color)\n",
    "plt.title('Greek Restaurants per Borough: NYC', fontsize = 20)\n",
    "plt.xlabel('Borough', fontsize = 15)\n",
    "plt.ylabel('Greek Restaurants', fontsize=15)\n",
    "plt.xticks(rotation = 'horizontal')\n",
    "plt.show()"
   ]
  },
  {
   "cell_type": "markdown",
   "metadata": {},
   "source": [
    "* We can see that **the highest** number of Greek restaurants is in **Manhattan** and **the lowest** is in **Bronx** and **Staten Island**;\n",
    "* Recall that **the highest** number of neighborhoods is in **Queens** and **the lowest** is in **Manhattan**.\n",
    "\n",
    "#### Visualizing bar chart «Greek Restaurants per Neighborhood: NYC»"
   ]
  },
  {
   "cell_type": "code",
   "execution_count": 21,
   "metadata": {},
   "outputs": [
    {
     "data": {
      "image/png": "[encoded data removed]",
      "text/plain": [
       "<Figure size 1152x576 with 1 Axes>"
      ]
     },
     "metadata": {
      "needs_background": "light"
     },
     "output_type": "display_data"
    }
   ],
   "source": [
    "top_10 = 10 # top number for graphing\n",
    "color = \"green\"\n",
    "gr_rest.groupby('Neighborhood')['ID'].count().nlargest(top_10).plot.bar(figsize=(16,8), color=color)\n",
    "plt.title('Greek Restaurants per Neighborhood: NYC', fontsize = 20)\n",
    "plt.xlabel('Neighborhood', fontsize = 15)\n",
    "plt.ylabel('Greek Restaurants', fontsize=15)\n",
    "plt.xticks(rotation = 'horizontal')\n",
    "plt.show()"
   ]
  },
  {
   "cell_type": "markdown",
   "metadata": {},
   "source": [
    "* We can see that **the highest** number of Greek restaurants is in **Astoria** and **Tribeca** which are neigborhoods of **Queens** and **Manhattan**, respectively.\n",
    "\n",
    "#### Getting data of Greek restaurants in Astoria, Queens"
   ]
  },
  {
   "cell_type": "code",
   "execution_count": 22,
   "metadata": {},
   "outputs": [
    {
     "name": "stdout",
     "output_type": "stream",
     "text": [
      "There are 3 rows and 4 columns\n"
     ]
    },
    {
     "data": {
      "text/html": [
       "<div>\n",
       "<style scoped>\n",
       "    .dataframe tbody tr th:only-of-type {\n",
       "        vertical-align: middle;\n",
       "    }\n",
       "\n",
       "    .dataframe tbody tr th {\n",
       "        vertical-align: top;\n",
       "    }\n",
       "\n",
       "    .dataframe thead th {\n",
       "        text-align: right;\n",
       "    }\n",
       "</style>\n",
       "<table border=\"1\" class=\"dataframe\">\n",
       "  <thead>\n",
       "    <tr style=\"text-align: right;\">\n",
       "      <th></th>\n",
       "      <th>Borough</th>\n",
       "      <th>Neighborhood</th>\n",
       "      <th>ID</th>\n",
       "      <th>Name</th>\n",
       "    </tr>\n",
       "  </thead>\n",
       "  <tbody>\n",
       "    <tr>\n",
       "      <th>16</th>\n",
       "      <td>Queens</td>\n",
       "      <td>Astoria</td>\n",
       "      <td>553ffa91498e2c76f06c0c03</td>\n",
       "      <td>SVL Bar</td>\n",
       "    </tr>\n",
       "    <tr>\n",
       "      <th>17</th>\n",
       "      <td>Queens</td>\n",
       "      <td>Astoria</td>\n",
       "      <td>4ba406b6f964a520317938e3</td>\n",
       "      <td>Crave Astoria</td>\n",
       "    </tr>\n",
       "    <tr>\n",
       "      <th>18</th>\n",
       "      <td>Queens</td>\n",
       "      <td>Astoria</td>\n",
       "      <td>4b0b36a5f964a520cb2e23e3</td>\n",
       "      <td>Gyro Uno</td>\n",
       "    </tr>\n",
       "  </tbody>\n",
       "</table>\n",
       "</div>"
      ],
      "text/plain": [
       "   Borough Neighborhood                        ID           Name\n",
       "16  Queens      Astoria  553ffa91498e2c76f06c0c03        SVL Bar\n",
       "17  Queens      Astoria  4ba406b6f964a520317938e3  Crave Astoria\n",
       "18  Queens      Astoria  4b0b36a5f964a520cb2e23e3       Gyro Uno"
      ]
     },
     "execution_count": 22,
     "metadata": {},
     "output_type": "execute_result"
    }
   ],
   "source": [
    "astoria_gr_rest = gr_rest[gr_rest['Neighborhood'] == 'Astoria']\n",
    "print('There are', astoria_gr_rest.shape[0], 'rows and', astoria_gr_rest.shape[1], 'columns')\n",
    "astoria_gr_rest"
   ]
  },
  {
   "cell_type": "markdown",
   "metadata": {},
   "source": [
    "* We can see that there are **3 Greek restaurants** in **Astoria, Queens**."
   ]
  },
  {
   "cell_type": "markdown",
   "metadata": {},
   "source": [
    "#### Getting data of Greek restaurants in Tribeca, Manhattan"
   ]
  },
  {
   "cell_type": "code",
   "execution_count": 23,
   "metadata": {},
   "outputs": [
    {
     "name": "stdout",
     "output_type": "stream",
     "text": [
      "There are 3 rows and 4 columns\n"
     ]
    },
    {
     "data": {
      "text/html": [
       "<div>\n",
       "<style scoped>\n",
       "    .dataframe tbody tr th:only-of-type {\n",
       "        vertical-align: middle;\n",
       "    }\n",
       "\n",
       "    .dataframe tbody tr th {\n",
       "        vertical-align: top;\n",
       "    }\n",
       "\n",
       "    .dataframe thead th {\n",
       "        text-align: right;\n",
       "    }\n",
       "</style>\n",
       "<table border=\"1\" class=\"dataframe\">\n",
       "  <thead>\n",
       "    <tr style=\"text-align: right;\">\n",
       "      <th></th>\n",
       "      <th>Borough</th>\n",
       "      <th>Neighborhood</th>\n",
       "      <th>ID</th>\n",
       "      <th>Name</th>\n",
       "    </tr>\n",
       "  </thead>\n",
       "  <tbody>\n",
       "    <tr>\n",
       "      <th>11</th>\n",
       "      <td>Manhattan</td>\n",
       "      <td>Tribeca</td>\n",
       "      <td>51b3c734498e2c9c744309e6</td>\n",
       "      <td>The Greek</td>\n",
       "    </tr>\n",
       "    <tr>\n",
       "      <th>12</th>\n",
       "      <td>Manhattan</td>\n",
       "      <td>Tribeca</td>\n",
       "      <td>5a3b15a661e53b1bcdf5cd40</td>\n",
       "      <td>Greca</td>\n",
       "    </tr>\n",
       "    <tr>\n",
       "      <th>13</th>\n",
       "      <td>Manhattan</td>\n",
       "      <td>Tribeca</td>\n",
       "      <td>437d1980f964a520b62a1fe3</td>\n",
       "      <td>Thalassa</td>\n",
       "    </tr>\n",
       "  </tbody>\n",
       "</table>\n",
       "</div>"
      ],
      "text/plain": [
       "      Borough Neighborhood                        ID       Name\n",
       "11  Manhattan      Tribeca  51b3c734498e2c9c744309e6  The Greek\n",
       "12  Manhattan      Tribeca  5a3b15a661e53b1bcdf5cd40      Greca\n",
       "13  Manhattan      Tribeca  437d1980f964a520b62a1fe3   Thalassa"
      ]
     },
     "execution_count": 23,
     "metadata": {},
     "output_type": "execute_result"
    }
   ],
   "source": [
    "tribeca_gr_rest = gr_rest[gr_rest['Neighborhood'] == 'Tribeca']\n",
    "print('There are', tribeca_gr_rest.shape[0], 'rows and', tribeca_gr_rest.shape[1], 'columns')\n",
    "tribeca_gr_rest"
   ]
  },
  {
   "cell_type": "markdown",
   "metadata": {
    "slideshow": {
     "slide_type": "fragment"
    }
   },
   "source": [
    "* We can see that there are **3 Greek restaurants** in **Tribeca, Manhattan**.\n",
    "\n",
    "#### Getting data of Greek restaurants' reviews"
   ]
  },
  {
   "cell_type": "code",
   "execution_count": 24,
   "metadata": {
    "scrolled": true
   },
   "outputs": [
    {
     "name": "stdout",
     "output_type": "stream",
     "text": [
      "There are 32 rows and 7 columns\n"
     ]
    },
    {
     "data": {
      "text/html": [
       "<div>\n",
       "<style scoped>\n",
       "    .dataframe tbody tr th:only-of-type {\n",
       "        vertical-align: middle;\n",
       "    }\n",
       "\n",
       "    .dataframe tbody tr th {\n",
       "        vertical-align: top;\n",
       "    }\n",
       "\n",
       "    .dataframe thead th {\n",
       "        text-align: right;\n",
       "    }\n",
       "</style>\n",
       "<table border=\"1\" class=\"dataframe\">\n",
       "  <thead>\n",
       "    <tr style=\"text-align: right;\">\n",
       "      <th></th>\n",
       "      <th>Borough</th>\n",
       "      <th>Neighborhood</th>\n",
       "      <th>ID</th>\n",
       "      <th>Name</th>\n",
       "      <th>Likes</th>\n",
       "      <th>Rating</th>\n",
       "      <th>Tips</th>\n",
       "    </tr>\n",
       "  </thead>\n",
       "  <tbody>\n",
       "    <tr>\n",
       "      <th>0</th>\n",
       "      <td>Bronx</td>\n",
       "      <td>Fordham</td>\n",
       "      <td>4c8801830f3c236a2d4bef5c</td>\n",
       "      <td>Gyro King</td>\n",
       "      <td>10</td>\n",
       "      <td>5.9</td>\n",
       "      <td>13</td>\n",
       "    </tr>\n",
       "    <tr>\n",
       "      <th>1</th>\n",
       "      <td>Brooklyn</td>\n",
       "      <td>Bay Ridge</td>\n",
       "      <td>58fa85be98fbfc397bafe21f</td>\n",
       "      <td>Blue Door Souvlakia</td>\n",
       "      <td>8</td>\n",
       "      <td>7.6</td>\n",
       "      <td>6</td>\n",
       "    </tr>\n",
       "    <tr>\n",
       "      <th>2</th>\n",
       "      <td>Brooklyn</td>\n",
       "      <td>Bay Ridge</td>\n",
       "      <td>4bbce66da0a0c9b6b9f41a0f</td>\n",
       "      <td>Elia Restaurant</td>\n",
       "      <td>10</td>\n",
       "      <td>7.7</td>\n",
       "      <td>12</td>\n",
       "    </tr>\n",
       "    <tr>\n",
       "      <th>3</th>\n",
       "      <td>Brooklyn</td>\n",
       "      <td>Windsor Terrace</td>\n",
       "      <td>545cf830498ee931999c6d38</td>\n",
       "      <td>Greek Xpress</td>\n",
       "      <td>9</td>\n",
       "      <td>6.5</td>\n",
       "      <td>5</td>\n",
       "    </tr>\n",
       "    <tr>\n",
       "      <th>4</th>\n",
       "      <td>Brooklyn</td>\n",
       "      <td>Prospect Heights</td>\n",
       "      <td>5ad35db3dd70c54b66147664</td>\n",
       "      <td>Underhill Greek Eatery</td>\n",
       "      <td>9</td>\n",
       "      <td>7.4</td>\n",
       "      <td>3</td>\n",
       "    </tr>\n",
       "  </tbody>\n",
       "</table>\n",
       "</div>"
      ],
      "text/plain": [
       "    Borough      Neighborhood                        ID  \\\n",
       "0     Bronx           Fordham  4c8801830f3c236a2d4bef5c   \n",
       "1  Brooklyn         Bay Ridge  58fa85be98fbfc397bafe21f   \n",
       "2  Brooklyn         Bay Ridge  4bbce66da0a0c9b6b9f41a0f   \n",
       "3  Brooklyn   Windsor Terrace  545cf830498ee931999c6d38   \n",
       "4  Brooklyn  Prospect Heights  5ad35db3dd70c54b66147664   \n",
       "\n",
       "                     Name  Likes  Rating  Tips  \n",
       "0               Gyro King     10     5.9    13  \n",
       "1     Blue Door Souvlakia      8     7.6     6  \n",
       "2         Elia Restaurant     10     7.7    12  \n",
       "3            Greek Xpress      9     6.5     5  \n",
       "4  Underhill Greek Eatery      9     7.4     3  "
      ]
     },
     "execution_count": 24,
     "metadata": {},
     "output_type": "execute_result"
    }
   ],
   "source": [
    "column_names = ['Borough', 'Neighborhood', 'ID', 'Name', 'Likes', 'Rating', 'Tips']\n",
    "gr_rest_st = pd.DataFrame(columns = column_names)\n",
    "count = 1\n",
    "for row in gr_rest.values.tolist():\n",
    "    Borough, Neighborhood, ID, Name = row\n",
    "    try:\n",
    "        venue_details = get_venue_details(ID)\n",
    "        id, name, likes, rating, tips = venue_details.values.tolist()[0]\n",
    "    except IndexError:\n",
    "        # We will assign 0 value for these restaurants as they may have been \n",
    "        # recently opened or their details do not exist in FourSquare Database\n",
    "        id, name, likes, rating, tips = [0]*5\n",
    "    gr_rest_st = gr_rest_st.append({'Borough': Borough,\n",
    "                                'Neighborhood': Neighborhood, \n",
    "                                'ID': id,\n",
    "                                'Name': name,\n",
    "                                'Likes': likes,\n",
    "                                'Rating': rating,\n",
    "                                'Tips': tips}, ignore_index = True)\n",
    "    count += 1\n",
    "\n",
    "\n",
    "gr_rest_st.to_csv('gr_rest_st.csv') # save the information so far to a .csv file due to limited calls on FourSquare\n",
    "gr_rest_st = pd.read_csv('gr_rest_st.csv', index_col = 0)\n",
    "print('There are', gr_rest_st.shape[0], 'rows and', gr_rest_st.shape[1], 'columns')\n",
    "gr_rest_st.head()"
   ]
  },
  {
   "cell_type": "markdown",
   "metadata": {},
   "source": [
    "#### Wrangling data of Greek restaurants' reviews"
   ]
  },
  {
   "cell_type": "code",
   "execution_count": 25,
   "metadata": {},
   "outputs": [
    {
     "name": "stdout",
     "output_type": "stream",
     "text": [
      "<class 'pandas.core.frame.DataFrame'>\n",
      "Int64Index: 32 entries, 0 to 31\n",
      "Data columns (total 7 columns):\n",
      " #   Column        Non-Null Count  Dtype  \n",
      "---  ------        --------------  -----  \n",
      " 0   Borough       32 non-null     object \n",
      " 1   Neighborhood  32 non-null     object \n",
      " 2   ID            32 non-null     object \n",
      " 3   Name          32 non-null     object \n",
      " 4   Likes         32 non-null     int64  \n",
      " 5   Rating        32 non-null     float64\n",
      " 6   Tips          32 non-null     int64  \n",
      "dtypes: float64(1), int64(2), object(4)\n",
      "memory usage: 2.0+ KB\n"
     ]
    }
   ],
   "source": [
    "gr_rest_st.info()"
   ]
  },
  {
   "cell_type": "code",
   "execution_count": 26,
   "metadata": {},
   "outputs": [],
   "source": [
    "gr_rest_st['Likes'] = gr_rest_st['Likes'].astype('float64')\n",
    "gr_rest_st['Tips'] = gr_rest_st['Tips'].astype('float64')"
   ]
  },
  {
   "cell_type": "code",
   "execution_count": 27,
   "metadata": {},
   "outputs": [
    {
     "name": "stdout",
     "output_type": "stream",
     "text": [
      "<class 'pandas.core.frame.DataFrame'>\n",
      "Int64Index: 32 entries, 0 to 31\n",
      "Data columns (total 7 columns):\n",
      " #   Column        Non-Null Count  Dtype  \n",
      "---  ------        --------------  -----  \n",
      " 0   Borough       32 non-null     object \n",
      " 1   Neighborhood  32 non-null     object \n",
      " 2   ID            32 non-null     object \n",
      " 3   Name          32 non-null     object \n",
      " 4   Likes         32 non-null     float64\n",
      " 5   Rating        32 non-null     float64\n",
      " 6   Tips          32 non-null     float64\n",
      "dtypes: float64(3), object(4)\n",
      "memory usage: 2.0+ KB\n"
     ]
    }
   ],
   "source": [
    "gr_rest_st.info()"
   ]
  },
  {
   "cell_type": "code",
   "execution_count": 28,
   "metadata": {},
   "outputs": [
    {
     "data": {
      "text/html": [
       "<div>\n",
       "<style scoped>\n",
       "    .dataframe tbody tr th:only-of-type {\n",
       "        vertical-align: middle;\n",
       "    }\n",
       "\n",
       "    .dataframe tbody tr th {\n",
       "        vertical-align: top;\n",
       "    }\n",
       "\n",
       "    .dataframe thead th {\n",
       "        text-align: right;\n",
       "    }\n",
       "</style>\n",
       "<table border=\"1\" class=\"dataframe\">\n",
       "  <thead>\n",
       "    <tr style=\"text-align: right;\">\n",
       "      <th></th>\n",
       "      <th>Likes</th>\n",
       "      <th>Rating</th>\n",
       "      <th>Tips</th>\n",
       "    </tr>\n",
       "  </thead>\n",
       "  <tbody>\n",
       "    <tr>\n",
       "      <th>count</th>\n",
       "      <td>32.000000</td>\n",
       "      <td>32.000000</td>\n",
       "      <td>32.000000</td>\n",
       "    </tr>\n",
       "    <tr>\n",
       "      <th>mean</th>\n",
       "      <td>100.156250</td>\n",
       "      <td>7.465625</td>\n",
       "      <td>33.437500</td>\n",
       "    </tr>\n",
       "    <tr>\n",
       "      <th>std</th>\n",
       "      <td>185.110971</td>\n",
       "      <td>2.105999</td>\n",
       "      <td>53.484962</td>\n",
       "    </tr>\n",
       "    <tr>\n",
       "      <th>min</th>\n",
       "      <td>0.000000</td>\n",
       "      <td>0.000000</td>\n",
       "      <td>0.000000</td>\n",
       "    </tr>\n",
       "    <tr>\n",
       "      <th>25%</th>\n",
       "      <td>13.000000</td>\n",
       "      <td>7.575000</td>\n",
       "      <td>4.750000</td>\n",
       "    </tr>\n",
       "    <tr>\n",
       "      <th>50%</th>\n",
       "      <td>21.000000</td>\n",
       "      <td>7.950000</td>\n",
       "      <td>10.500000</td>\n",
       "    </tr>\n",
       "    <tr>\n",
       "      <th>75%</th>\n",
       "      <td>79.000000</td>\n",
       "      <td>8.425000</td>\n",
       "      <td>36.750000</td>\n",
       "    </tr>\n",
       "    <tr>\n",
       "      <th>max</th>\n",
       "      <td>832.000000</td>\n",
       "      <td>9.300000</td>\n",
       "      <td>204.000000</td>\n",
       "    </tr>\n",
       "  </tbody>\n",
       "</table>\n",
       "</div>"
      ],
      "text/plain": [
       "            Likes     Rating        Tips\n",
       "count   32.000000  32.000000   32.000000\n",
       "mean   100.156250   7.465625   33.437500\n",
       "std    185.110971   2.105999   53.484962\n",
       "min      0.000000   0.000000    0.000000\n",
       "25%     13.000000   7.575000    4.750000\n",
       "50%     21.000000   7.950000   10.500000\n",
       "75%     79.000000   8.425000   36.750000\n",
       "max    832.000000   9.300000  204.000000"
      ]
     },
     "execution_count": 28,
     "metadata": {},
     "output_type": "execute_result"
    }
   ],
   "source": [
    "gr_rest_st.describe()"
   ]
  },
  {
   "cell_type": "markdown",
   "metadata": {},
   "source": [
    "* We can see that **the mean rating** of all Greek restaurants in NYC is about **7.46 out of 10**;\n",
    "* **The mean number of likes** is about **100**;\n",
    "* **The mean number of tips** is about **33**.\n",
    "\n",
    "#### Finding restaurant with maximum Likes"
   ]
  },
  {
   "cell_type": "code",
   "execution_count": 29,
   "metadata": {},
   "outputs": [
    {
     "data": {
      "text/plain": [
       "Borough                        Manhattan\n",
       "Neighborhood                   Chinatown\n",
       "ID              5521c2ff498ebe2368634187\n",
       "Name                              Kiki's\n",
       "Likes                                832\n",
       "Rating                               9.3\n",
       "Tips                                 204\n",
       "Name: 7, dtype: object"
      ]
     },
     "execution_count": 29,
     "metadata": {},
     "output_type": "execute_result"
    }
   ],
   "source": [
    "gr_rest_st.iloc[gr_rest_st['Likes'].idxmax()]"
   ]
  },
  {
   "cell_type": "markdown",
   "metadata": {},
   "source": [
    "#### Finding restaurant with maximum Ratings"
   ]
  },
  {
   "cell_type": "code",
   "execution_count": 30,
   "metadata": {},
   "outputs": [
    {
     "data": {
      "text/plain": [
       "Borough                        Manhattan\n",
       "Neighborhood                   Chinatown\n",
       "ID              5521c2ff498ebe2368634187\n",
       "Name                              Kiki's\n",
       "Likes                                832\n",
       "Rating                               9.3\n",
       "Tips                                 204\n",
       "Name: 7, dtype: object"
      ]
     },
     "execution_count": 30,
     "metadata": {},
     "output_type": "execute_result"
    }
   ],
   "source": [
    "gr_rest_st.iloc[gr_rest_st['Rating'].idxmax()]"
   ]
  },
  {
   "cell_type": "markdown",
   "metadata": {},
   "source": [
    "#### Finding restaurant with maximum Tips"
   ]
  },
  {
   "cell_type": "code",
   "execution_count": 31,
   "metadata": {},
   "outputs": [
    {
     "data": {
      "text/plain": [
       "Borough                        Manhattan\n",
       "Neighborhood                   Chinatown\n",
       "ID              5521c2ff498ebe2368634187\n",
       "Name                              Kiki's\n",
       "Likes                                832\n",
       "Rating                               9.3\n",
       "Tips                                 204\n",
       "Name: 7, dtype: object"
      ]
     },
     "execution_count": 31,
     "metadata": {},
     "output_type": "execute_result"
    }
   ],
   "source": [
    "gr_rest_st.iloc[gr_rest_st['Tips'].idxmax()]"
   ]
  },
  {
   "cell_type": "markdown",
   "metadata": {},
   "source": [
    "#### Finding average rating of Greek restaurants for each borough"
   ]
  },
  {
   "cell_type": "code",
   "execution_count": 32,
   "metadata": {},
   "outputs": [
    {
     "data": {
      "text/html": [
       "<div>\n",
       "<style scoped>\n",
       "    .dataframe tbody tr th:only-of-type {\n",
       "        vertical-align: middle;\n",
       "    }\n",
       "\n",
       "    .dataframe tbody tr th {\n",
       "        vertical-align: top;\n",
       "    }\n",
       "\n",
       "    .dataframe thead th {\n",
       "        text-align: right;\n",
       "    }\n",
       "</style>\n",
       "<table border=\"1\" class=\"dataframe\">\n",
       "  <thead>\n",
       "    <tr style=\"text-align: right;\">\n",
       "      <th></th>\n",
       "      <th>Borough</th>\n",
       "      <th>Average Rating</th>\n",
       "    </tr>\n",
       "  </thead>\n",
       "  <tbody>\n",
       "    <tr>\n",
       "      <th>2</th>\n",
       "      <td>Manhattan</td>\n",
       "      <td>8.314286</td>\n",
       "    </tr>\n",
       "    <tr>\n",
       "      <th>1</th>\n",
       "      <td>Brooklyn</td>\n",
       "      <td>7.600000</td>\n",
       "    </tr>\n",
       "    <tr>\n",
       "      <th>3</th>\n",
       "      <td>Queens</td>\n",
       "      <td>7.100000</td>\n",
       "    </tr>\n",
       "    <tr>\n",
       "      <th>0</th>\n",
       "      <td>Bronx</td>\n",
       "      <td>5.900000</td>\n",
       "    </tr>\n",
       "    <tr>\n",
       "      <th>4</th>\n",
       "      <td>Staten Island</td>\n",
       "      <td>0.000000</td>\n",
       "    </tr>\n",
       "  </tbody>\n",
       "</table>\n",
       "</div>"
      ],
      "text/plain": [
       "         Borough  Average Rating\n",
       "2      Manhattan        8.314286\n",
       "1       Brooklyn        7.600000\n",
       "3         Queens        7.100000\n",
       "0          Bronx        5.900000\n",
       "4  Staten Island        0.000000"
      ]
     },
     "execution_count": 32,
     "metadata": {},
     "output_type": "execute_result"
    }
   ],
   "source": [
    "borough_st = gr_rest_st.groupby('Borough', as_index = False).mean()[['Borough', 'Rating']]\n",
    "borough_st.columns = ['Borough', 'Average Rating']\n",
    "borough_st.sort_values(['Average Rating'], ascending=False)"
   ]
  },
  {
   "cell_type": "markdown",
   "metadata": {},
   "source": [
    "#### Visualizing bar chart «Average Rating of Greek Restaurants for Each Borough»"
   ]
  },
  {
   "cell_type": "code",
   "execution_count": 33,
   "metadata": {},
   "outputs": [
    {
     "data": {
      "image/png": "[encoded data removed]",
      "text/plain": [
       "<Figure size 864x576 with 1 Axes>"
      ]
     },
     "metadata": {
      "needs_background": "light"
     },
     "output_type": "display_data"
    }
   ],
   "source": [
    "color = \"blue\"\n",
    "gr_rest_st.groupby('Borough').mean()['Rating'].plot.bar(figsize = (12,8))\n",
    "plt.title('Average Rating of Greek Restaurants for Each Borough', fontsize=20)\n",
    "plt.xlabel('Borough', fontsize = 15)\n",
    "plt.ylabel('Average Rating', fontsize = 15)\n",
    "plt.xticks(rotation = 'horizontal')\n",
    "plt.show()"
   ]
  },
  {
   "cell_type": "markdown",
   "metadata": {},
   "source": [
    "* We can see that **Manhattan** has **the highest** average rating and **Staten Island** has **the lowest**;\n",
    "* **Overall average rating**, excluding Staten Island, is fluctuating **from 6 to 8**.\n",
    "\n",
    "#### Finding top 10 of neighborhoods with the highest mean rating"
   ]
  },
  {
   "cell_type": "code",
   "execution_count": 34,
   "metadata": {
    "scrolled": true
   },
   "outputs": [
    {
     "data": {
      "text/html": [
       "<div>\n",
       "<style scoped>\n",
       "    .dataframe tbody tr th:only-of-type {\n",
       "        vertical-align: middle;\n",
       "    }\n",
       "\n",
       "    .dataframe tbody tr th {\n",
       "        vertical-align: top;\n",
       "    }\n",
       "\n",
       "    .dataframe thead th {\n",
       "        text-align: right;\n",
       "    }\n",
       "</style>\n",
       "<table border=\"1\" class=\"dataframe\">\n",
       "  <thead>\n",
       "    <tr style=\"text-align: right;\">\n",
       "      <th></th>\n",
       "      <th>Neighborhood</th>\n",
       "      <th>Average Rating</th>\n",
       "    </tr>\n",
       "  </thead>\n",
       "  <tbody>\n",
       "    <tr>\n",
       "      <th>4</th>\n",
       "      <td>Chinatown</td>\n",
       "      <td>9.30</td>\n",
       "    </tr>\n",
       "    <tr>\n",
       "      <th>22</th>\n",
       "      <td>Upper West Side</td>\n",
       "      <td>9.00</td>\n",
       "    </tr>\n",
       "    <tr>\n",
       "      <th>12</th>\n",
       "      <td>Noho</td>\n",
       "      <td>8.80</td>\n",
       "    </tr>\n",
       "    <tr>\n",
       "      <th>3</th>\n",
       "      <td>Carroll Gardens</td>\n",
       "      <td>8.80</td>\n",
       "    </tr>\n",
       "    <tr>\n",
       "      <th>5</th>\n",
       "      <td>East Village</td>\n",
       "      <td>8.80</td>\n",
       "    </tr>\n",
       "    <tr>\n",
       "      <th>2</th>\n",
       "      <td>Bayside</td>\n",
       "      <td>8.75</td>\n",
       "    </tr>\n",
       "    <tr>\n",
       "      <th>15</th>\n",
       "      <td>Roosevelt Island</td>\n",
       "      <td>8.40</td>\n",
       "    </tr>\n",
       "    <tr>\n",
       "      <th>20</th>\n",
       "      <td>Tribeca</td>\n",
       "      <td>8.30</td>\n",
       "    </tr>\n",
       "    <tr>\n",
       "      <th>10</th>\n",
       "      <td>Little Neck</td>\n",
       "      <td>8.20</td>\n",
       "    </tr>\n",
       "    <tr>\n",
       "      <th>21</th>\n",
       "      <td>Turtle Bay</td>\n",
       "      <td>8.15</td>\n",
       "    </tr>\n",
       "  </tbody>\n",
       "</table>\n",
       "</div>"
      ],
      "text/plain": [
       "        Neighborhood  Average Rating\n",
       "4          Chinatown            9.30\n",
       "22   Upper West Side            9.00\n",
       "12              Noho            8.80\n",
       "3    Carroll Gardens            8.80\n",
       "5       East Village            8.80\n",
       "2            Bayside            8.75\n",
       "15  Roosevelt Island            8.40\n",
       "20           Tribeca            8.30\n",
       "10       Little Neck            8.20\n",
       "21        Turtle Bay            8.15"
      ]
     },
     "execution_count": 34,
     "metadata": {},
     "output_type": "execute_result"
    }
   ],
   "source": [
    "neighborhood_st = gr_rest_st.groupby('Neighborhood', as_index = False).mean()[['Neighborhood', 'Rating']]\n",
    "neighborhood_st.columns = ['Neighborhood', 'Average Rating']\n",
    "neighborhood_st.sort_values(['Average Rating'], ascending=False).head(10)"
   ]
  },
  {
   "cell_type": "markdown",
   "metadata": {},
   "source": [
    "* We can see that **the highest** average rating of Greek restaurants is in **Chinatown, Manhattan** which is **9.3**.\n",
    "\n",
    "#### Creating map of the neighborhoods with an average rating greater than or equal to 7"
   ]
  },
  {
   "cell_type": "code",
   "execution_count": 35,
   "metadata": {},
   "outputs": [
    {
     "data": {
      "text/html": [
       "<div>\n",
       "<style scoped>\n",
       "    .dataframe tbody tr th:only-of-type {\n",
       "        vertical-align: middle;\n",
       "    }\n",
       "\n",
       "    .dataframe tbody tr th {\n",
       "        vertical-align: top;\n",
       "    }\n",
       "\n",
       "    .dataframe thead th {\n",
       "        text-align: right;\n",
       "    }\n",
       "</style>\n",
       "<table border=\"1\" class=\"dataframe\">\n",
       "  <thead>\n",
       "    <tr style=\"text-align: right;\">\n",
       "      <th></th>\n",
       "      <th>Borough</th>\n",
       "      <th>Neighborhood</th>\n",
       "      <th>Latitude</th>\n",
       "      <th>Longitude</th>\n",
       "      <th>Average Rating</th>\n",
       "    </tr>\n",
       "  </thead>\n",
       "  <tbody>\n",
       "    <tr>\n",
       "      <th>0</th>\n",
       "      <td>Queens</td>\n",
       "      <td>Astoria</td>\n",
       "      <td>40.768509</td>\n",
       "      <td>-73.915654</td>\n",
       "      <td>7.87</td>\n",
       "    </tr>\n",
       "    <tr>\n",
       "      <th>1</th>\n",
       "      <td>Brooklyn</td>\n",
       "      <td>Bay Ridge</td>\n",
       "      <td>40.625801</td>\n",
       "      <td>-74.030621</td>\n",
       "      <td>7.65</td>\n",
       "    </tr>\n",
       "    <tr>\n",
       "      <th>2</th>\n",
       "      <td>Queens</td>\n",
       "      <td>Bayside</td>\n",
       "      <td>40.766041</td>\n",
       "      <td>-73.774274</td>\n",
       "      <td>8.75</td>\n",
       "    </tr>\n",
       "    <tr>\n",
       "      <th>3</th>\n",
       "      <td>Brooklyn</td>\n",
       "      <td>Carroll Gardens</td>\n",
       "      <td>40.680540</td>\n",
       "      <td>-73.994654</td>\n",
       "      <td>8.80</td>\n",
       "    </tr>\n",
       "    <tr>\n",
       "      <th>4</th>\n",
       "      <td>Manhattan</td>\n",
       "      <td>Chinatown</td>\n",
       "      <td>40.715618</td>\n",
       "      <td>-73.994279</td>\n",
       "      <td>9.30</td>\n",
       "    </tr>\n",
       "  </tbody>\n",
       "</table>\n",
       "</div>"
      ],
      "text/plain": [
       "     Borough     Neighborhood   Latitude  Longitude  Average Rating\n",
       "0     Queens          Astoria  40.768509 -73.915654            7.87\n",
       "1   Brooklyn        Bay Ridge  40.625801 -74.030621            7.65\n",
       "2     Queens          Bayside  40.766041 -73.774274            8.75\n",
       "3   Brooklyn  Carroll Gardens  40.680540 -73.994654            8.80\n",
       "4  Manhattan        Chinatown  40.715618 -73.994279            9.30"
      ]
     },
     "execution_count": 35,
     "metadata": {},
     "output_type": "execute_result"
    }
   ],
   "source": [
    "neighborhood_st = neighborhood_st[neighborhood_st['Average Rating'] >= 7.0]\n",
    "neighborhood_st = pd.merge(neighborhood_st, nyc_data, on = 'Neighborhood')\n",
    "neighborhood_st = neighborhood_st[['Borough', 'Neighborhood', 'Latitude', 'Longitude', 'Average Rating']]\n",
    "neighborhood_st['Average Rating'] = np.around(neighborhood_st['Average Rating'], 2)\n",
    "neighborhood_st.head()"
   ]
  },
  {
   "cell_type": "code",
   "execution_count": 36,
   "metadata": {
    "scrolled": false
   },
   "outputs": [
    {
     "data": {
      "text/html": [
       "<div style=\"width:100%;\"><div style=\"position:relative;width:100%;height:0;padding-bottom:60%;\"><iframe src=\"data:text/html;charset=utf-8;base64,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\" style=\"position:absolute;width:100%;height:100%;left:0;top:0;border:none !important;\" allowfullscreen webkitallowfullscreen mozallowfullscreen></iframe></div></div>"
      ],
      "text/plain": [
       "<folium.folium.Map at 0x1658ec84c70>"
      ]
     },
     "execution_count": 36,
     "metadata": {},
     "output_type": "execute_result"
    }
   ],
   "source": [
    "# create map of NYC\n",
    "nyc_map = folium.Map(location = geo_location('New York'), zoom_start = 12)\n",
    "# instantiate a feature group for the restaurant ratings in the dataframe\n",
    "ratings = folium.map.FeatureGroup()\n",
    "# loop through the restaurant ratings and add each one to the ratings feature group\n",
    "for lat, lng, in neighborhood_st[['Latitude', 'Longitude']].values:\n",
    "    ratings.add_child(\n",
    "        folium.CircleMarker(\n",
    "            [lat, lng],\n",
    "            radius = 8, # define how big you want the circle markers to be\n",
    "            color = 'black',\n",
    "            fill = True,\n",
    "            fill_color = 'red',\n",
    "            fill_opacity = 0.7\n",
    "        )\n",
    "    )\n",
    "\n",
    "\n",
    "neighborhood_st['Label'] = neighborhood_st['Neighborhood'] + ', ' + neighborhood_st['Borough'] + ' (' + neighborhood_st['Average Rating'].map(str) + ')'\n",
    "# add pop-up text to each marker on the map\n",
    "for lat, lng, label in neighborhood_st[['Latitude', 'Longitude', 'Label']].values:\n",
    "    folium.Marker([lat, lng], popup = label).add_to(nyc_map)        \n",
    "# add restaurant ratings to map\n",
    "nyc_map.add_child(ratings)"
   ]
  },
  {
   "cell_type": "code",
   "execution_count": 39,
   "metadata": {},
   "outputs": [],
   "source": [
    "ny_map = folium.Map(location=geo_location('New York'), zoom_start=12)\n",
    "ny_geo = r'Borough_Boundaries.geojson'\n",
    "\n",
    "map = ny_map.choropleth(\n",
    "    geo_data=ny_geo,\n",
    "    data=borough_st,\n",
    "    columns=['Borough', 'Average Rating'],\n",
    "    key_on='feature.properties.boro_name',\n",
    "    fill_color='YlOrRd', \n",
    "    fill_opacity=0.7, \n",
    "    line_opacity=0.2,\n",
    "    legend_name='Average Rating'\n",
    ")\n",
    "\n",
    "# display map\n",
    "# as this is huge map data , we will save it to a file\n",
    "ny_map.save('borough_rating.html')"
   ]
  },
  {
   "cell_type": "markdown",
   "metadata": {},
   "source": [
    "### Results and Conclusion Section\n",
    "Let us sum up all ideas from this research:\n",
    "\n",
    "It can be said that Manhattan is the best location for Greek cuisine in NYC. To have the best chance of success, I would recommend opening a Greek restaurant in Brooklyn. Brooklyn has neighborhoods with average ratings exceeding 7.0 of a scale of 1.0 to 10.0 and has lower number of Greek restaurants making competition easier than in other boroughs, such as Manhattan. Finally, I can consider Gyro King, Blue Door Souvlakia and Elia Restaurant as the most suitable places to try Greek cuisine. All the above research is highly depended on the adequacy and accuracy of FourSquare Database, therefore, a more comprehensive analysis and future work would need to incorporate data from other external databases.\n",
    "\n",
    "The project went through the processes of identifying a problem, specifying the required data, extract, prepare the data and provide a recommendation based on result gathered data analysis. We must keep in mind that we only considered the frequency of occurrence factor and for further analysis we should use other factors to have a more precise recommendation.  The results of this project will help who wants to open a Greek restaurant in New York City."
   ]
  },
  {
   "cell_type": "code",
   "execution_count": null,
   "metadata": {},
   "outputs": [],
   "source": []
  }
 ],
 "metadata": {
  "kernelspec": {
   "display_name": "Python 3",
   "language": "python",
   "name": "python3"
  },
  "language_info": {
   "codemirror_mode": {
    "name": "ipython",
    "version": 3
   },
   "file_extension": ".py",
   "mimetype": "text/x-python",
   "name": "python",
   "nbconvert_exporter": "python",
   "pygments_lexer": "ipython3",
   "version": "3.8.3"
  }
 },
 "nbformat": 4,
 "nbformat_minor": 1
}
